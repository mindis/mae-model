{
 "cells": [
  {
   "cell_type": "code",
   "execution_count": null,
   "metadata": {},
   "outputs": [],
   "source": [
    "import numpy as np\n",
    "import pandas as pd\n",
    "\n",
    "data = pd.read_csv('./data/preds/tbl__mini__euclidean.csv', delimiter=',').values"
   ]
  },
  {
   "cell_type": "code",
   "execution_count": null,
   "metadata": {},
   "outputs": [],
   "source": [
    "attr_id = data[:,0].astype(int)\n",
    "correct_value_id = data[:,1].astype(int)\n",
    "rank = data[:,2].astype(int)\n",
    "scores = data[:,3:]\n",
    "preds = np.argsort(scores, axis=-1)"
   ]
  },
  {
   "cell_type": "code",
   "execution_count": null,
   "metadata": {},
   "outputs": [],
   "source": [
    "import utils\n",
    "\n",
    "with open('./data/mini/attr.txt', 'r') as f:\n",
    "    attr_vocab = utils.Vocab.load(f)\n",
    "    \n",
    "with open('./data/mini/desc.txt', 'r') as f:\n",
    "    desc_vocab = utils.Vocab.load(f)\n",
    "    \n",
    "with open('./data/mini/value.txt', 'r') as f:\n",
    "    value_set = utils.ValueSet.load(f)"
   ]
  },
  {
   "cell_type": "code",
   "execution_count": null,
   "metadata": {},
   "outputs": [],
   "source": [
    "from sklearn import metrics\n",
    "\n",
    "# Identify unk and non-unk data points\n",
    "unk = correct_value_id == len(value_set)\n",
    "non_unk = correct_value_id != len(value_set)\n",
    "\n",
    "# Metrics at 1\n",
    "precision_at_1 = metrics.precision_score(correct_value_id[non_unk], preds[non_unk,:1], average=None)\n",
    "recall_at_1 = metrics.recall_score(correct_value_id[non_unk], preds[non_unk,:1], average=None)\n",
    "f1_at_1 = metrics.f1_score(correct_value_id[non_unk], preds[non_unk,:1], average=None)\n",
    "\n",
    "hstring = '{0:16.16}\\t{1:.6}\\t{2:.6}\\t{3:.6}'\n",
    "fstring = '{0:16.16}\\t{1:0.4f}\\t{2:0.4f}\\t{3:0.4f}'\n",
    "print(hstring.format('', 'prec', 'rec', 'f1'))\n",
    "for i, value in enumerate(value_set.global_vocab._id2word):\n",
    "    print(fstring.format(value, precision_at_1[i], recall_at_1[i], f1_at_1[i]))\n",
    "\n"
   ]
  },
  {
   "cell_type": "code",
   "execution_count": null,
   "metadata": {},
   "outputs": [],
   "source": [
    "import matplotlib.pyplot as plt\n",
    "% matplotlib inline\n",
    "\n",
    "# Confusion matrix at 1\n",
    "plt.figure(figsize=(16,16))\n",
    "confusion_matrix = metrics.confusion_matrix(correct_value_id[non_unk], preds[non_unk,:1])\n",
    "plt.imshow(confusion_matrix[:100,:100])\n",
    "plt.xticks(range(100), value_set.global_vocab._id2word[:100], rotation=90)\n",
    "plt.yticks(range(100), value_set.global_vocab._id2word[:100]);"
   ]
  },
  {
   "cell_type": "code",
   "execution_count": null,
   "metadata": {},
   "outputs": [],
   "source": [
    "# View UNK accuracy as a function of k\n",
    "\n",
    "def unk_acc(rank, max_k=20):\n",
    "    out = []\n",
    "    for k in range(1, max_k+1):\n",
    "        acc = np.mean(rank <= k)\n",
    "        out.append(acc)\n",
    "    return out\n",
    "\n",
    "plt.figure(figsize=(16,8))\n",
    "plt.plot(unk_acc(rank[unk]))\n",
    "plt.xticks(range(20), range(1, 21));\n",
    "plt.xlabel('K')\n",
    "plt.ylabel('Accuracy')\n",
    "plt.title('Accuracy@k of <UNK> predictions');"
   ]
  },
  {
   "cell_type": "code",
   "execution_count": null,
   "metadata": {},
   "outputs": [],
   "source": [
    "# Accuracy at K for top 10 most common categories\n",
    "\n",
    "def top10acc(attr_id, rank, max_k=20):\n",
    "    out = []\n",
    "    for i in range(10):\n",
    "        idx = attr_id == i\n",
    "        sub = []\n",
    "        for k in range(1, max_k+1):\n",
    "            acc = np.mean(rank[idx] <= k)\n",
    "            sub.append(acc)\n",
    "        out.append(sub)\n",
    "    return out\n",
    "\n",
    "acc = top10acc(attr_id, rank)\n",
    "plt.figure(figsize=(16,8))\n",
    "for i, series in enumerate(acc):\n",
    "    plt.plot(series, label=attr_vocab.id2word(i))\n",
    "plt.legend()\n",
    "plt.xticks(range(20), range(1, 21));\n",
    "plt.xlabel('K')\n",
    "plt.ylabel('Accuracy')\n",
    "plt.title('Accuracy@k of Most Common Attributes');"
   ]
  },
  {
   "cell_type": "code",
   "execution_count": null,
   "metadata": {},
   "outputs": [],
   "source": [
    "nunk = attr_id[non_unk]\n",
    "y_true = np.expand_dims(correct_value_id[non_unk], 1)\n",
    "y_pred = preds[non_unk]\n",
    "\n",
    "attr0 = nunk == 0\n",
    "y_true0 = y_true[attr0]\n",
    "y_pred0 = y_pred[attr0]\n",
    "\n",
    "np.sum(y_pred[:,:100] == y_true) / y_pred.shape[0]"
   ]
  },
  {
   "cell_type": "code",
   "execution_count": null,
   "metadata": {},
   "outputs": [],
   "source": [
    "print(attr_id[non_unk])\n",
    "print(scores[non_unk])"
   ]
  },
  {
   "cell_type": "markdown",
   "metadata": {},
   "source": [
    "# MATE Analysis\n"
   ]
  },
  {
   "cell_type": "code",
   "execution_count": 1,
   "metadata": {},
   "outputs": [],
   "source": [
    "import json\n",
    "from utils import Vocab, ValueSet\n",
    "\n",
    "with open('data/mini/attr.txt', 'r') as f:\n",
    "    attr_vocab = Vocab.load(f)\n",
    "    \n",
    "with open('data/mini/value.txt', 'r') as f:\n",
    "    value_vocab = ValueSet.load(f)\n",
    "\n",
    "with open('data/preds/mate.json', 'r') as f:\n",
    "    mate_data = json.load(f)"
   ]
  },
  {
   "cell_type": "code",
   "execution_count": 36,
   "metadata": {
    "scrolled": false
   },
   "outputs": [
    {
     "name": "stdout",
     "output_type": "stream",
     "text": [
      "===True Attrs===\n",
      "package_quantity\n",
      "platform\n",
      "===Predictions===\n",
      "warranty -0.016308002472766564\n",
      "color -0.0246788887757515\n",
      "number_of_pieces -0.026339063367381142\n",
      "colour -0.02742970764734401\n",
      "package_quantity -0.028161503149697203\n",
      "assembly_required -0.028304206850978342\n",
      "format -0.02839910194785805\n",
      "batteries_included -0.028493520162441607\n",
      "frame_material -0.028585196308235597\n",
      "packaged_quantity -0.028670196144069\n",
      "color_finish -0.02874875815179668\n",
      "aspect_ratio -0.028821597680446266\n",
      "paperback -0.02889086067630119\n",
      "shipping -0.02896000445461659\n",
      "colors -0.029029029015406677\n",
      "quantity -0.029098053576196766\n",
      "availability -0.029167078136986855\n",
      "pattern -0.029238487050983586\n",
      "size -0.02931454547008521\n",
      "shape -0.21056467499007409\n",
      "platform -0.2109067449410505\n",
      "weight -0.21097684246008003\n",
      "age -0.2110523047875755\n",
      "movement -0.21113420492322144\n",
      "number_of_discs -0.21122755015347014\n",
      "hardcover -0.2283592371096615\n",
      "binding -0.22846235846194682\n",
      "care -0.22856166473084694\n",
      "assembly -0.2286812387969601\n",
      "finish -0.23711373532250093\n",
      "seating -0.7739758762361671\n",
      "colorfinish -0.7741383716994976\n",
      "commercial_residential -0.7743765206105763\n",
      "usage -0.7747811391817215\n",
      "color_family -1.8591190339702965\n",
      "voltage -40.36811023531046\n",
      "type -inf\n",
      "transmission -inf\n",
      "product_type -inf\n",
      "fuel -inf\n",
      "interior -inf\n",
      "features -inf\n",
      "form_factor -inf\n",
      "fuel_type -inf\n",
      "category -inf\n",
      "exterior -inf\n",
      "year -inf\n",
      "previous_owners -inf\n",
      "ships_to -inf\n",
      "measurements -inf\n",
      "price -inf\n",
      "technical -inf\n",
      "width -inf\n",
      "doors -inf\n",
      "model -inf\n",
      "engine -inf\n",
      "sold_by -inf\n",
      "location -inf\n",
      "certifications_and_listings -inf\n",
      "general_style -inf\n",
      "productgroup -inf\n",
      "free_shipping -inf\n",
      "x-ray -inf\n",
      "no_of_seats -inf\n",
      "construction -inf\n",
      "lending -inf\n",
      "drive_type -inf\n",
      "status -inf\n",
      "http -inf\n",
      "operating_system -inf\n",
      "bluetooth -inf\n",
      "indooroutdoor -inf\n",
      "alloys -inf\n",
      "engine_size -inf\n",
      "space_saver -inf\n",
      "power_source -inf\n",
      "fuel_tank_capacity_litres -inf\n",
      "tyre_size_spare -inf\n",
      "interior_color -inf\n",
      "packaging -inf\n",
      "product_group -inf\n",
      "turning_circle-kerb_to_kerb -inf\n",
      "tyre_size_front -inf\n",
      "cylinders -inf\n",
      "automatic -inf\n",
      "tyre_size_rear -inf\n",
      "flooring_product_type -inf\n",
      "mileage -inf\n",
      "exterior_color -inf\n",
      "usb -inf\n",
      "included -inf\n",
      "department -inf\n",
      "producttypename -inf\n",
      "max_towing_weight-braked -inf\n",
      "Platform:\n",
      "eBay US\n",
      "Original List Price:\n",
      "$79.97\n",
      "Brand :\n",
      "MILLER ELECTRIC\n",
      "MPN :\n",
      "30-15-200\n",
      "SKU :\n",
      "G3176415\n",
      "Gauge Size :\n",
      "2\"\n",
      "Gauges Delivery Pressure :\n",
      "30 psi\n",
      "Overall Length :\n",
      "4-3/4\"\n",
      "Series :\n",
      "30\n",
      "Item :\n",
      "Gas Regulator\n"
     ]
    }
   ],
   "source": [
    "import numpy as np\n",
    "\n",
    "def view_results(x):\n",
    "    preds = x[0]\n",
    "    product = x[1][0]\n",
    "    print('===True Attrs===')\n",
    "    for attr in product['specs']:\n",
    "        print(attr)\n",
    "    print('===Predictions===')\n",
    "    attr_ids = [x[0] for x in preds]\n",
    "    scores = [x[1] for x in preds]\n",
    "    scores = np.cumsum([np.log(x) for x in scores])\n",
    "    for attr_id, score in zip(attr_ids, scores):\n",
    "        print(attr_vocab.id2word(attr_id), score)\n",
    "    print(product['text'])\n",
    "\n",
    "view_results(mate_data[4])"
   ]
  },
  {
   "cell_type": "code",
   "execution_count": 14,
   "metadata": {
    "scrolled": true
   },
   "outputs": [],
   "source": [
    "import numpy as np\n",
    "\n",
    "logscore_range = [0, *-np.logspace(-4, 4, num=25), -float('inf')]\n",
    "\n",
    "def evaluate(x):\n",
    "    precision = np.zeros(len(logscore_range))\n",
    "    recall = np.zeros(len(logscore_range))\n",
    "    attrs, scores = zip(*x[0])\n",
    "    attrs = np.array(attrs)\n",
    "    logscores = np.cumsum([np.log10(s) for s in scores])\n",
    "    product = x[1][0]\n",
    "    correct_attrs = [attr_vocab.word2id(w) for w in product['specs']]\n",
    "    for i, cutoff in enumerate(logscore_range):\n",
    "        idx = logscores > cutoff\n",
    "        predicted_attrs = attrs[idx]\n",
    "        tp = len([attr for attr in predicted_attrs if attr in correct_attrs])\n",
    "        try:\n",
    "            precision[i] = tp / len(predicted_attrs)\n",
    "        except ZeroDivisionError:\n",
    "            precision[i] = 0\n",
    "        try:\n",
    "            recall[i] = tp / len(correct_attrs)\n",
    "        except ZeroDivisionError:\n",
    "            recall[i] = 0\n",
    "    return precision, recall\n",
    "\n",
    "        \n",
    "precisions = []\n",
    "recalls = []\n",
    "for x in mate_data:\n",
    "    precision, recall = evaluate(x)\n",
    "    precisions.append(precision)\n",
    "    recalls.append(recall)"
   ]
  },
  {
   "cell_type": "code",
   "execution_count": 19,
   "metadata": {},
   "outputs": [],
   "source": [
    "precision_mat = np.array(precisions)\n",
    "macro_precision = np.mean(precision_mat, axis=0)\n",
    "\n",
    "recall_mat = np.array(recalls)\n",
    "macro_recall = np.mean(recall_mat, axis=0)"
   ]
  },
  {
   "cell_type": "code",
   "execution_count": 21,
   "metadata": {},
   "outputs": [],
   "source": [
    "import matplotlib.pyplot as plt\n",
    "% matplotlib inline"
   ]
  },
  {
   "cell_type": "code",
   "execution_count": 35,
   "metadata": {},
   "outputs": [
    {
     "data": {
      "image/png": "[encoded data removed]",
      "text/plain": [
       "<matplotlib.figure.Figure at 0x7f7c3377ecf8>"
      ]
     },
     "metadata": {},
     "output_type": "display_data"
    }
   ],
   "source": [
    "plt.semilogx(-1*np.array(logscore_range), macro_precision)\n",
    "plt.title('Precision')\n",
    "plt.xlabel('-log(cumulative_score)');"
   ]
  },
  {
   "cell_type": "code",
   "execution_count": 34,
   "metadata": {},
   "outputs": [
    {
     "data": {
      "image/png": "[encoded data removed]",
      "text/plain": [
       "<matplotlib.figure.Figure at 0x7f7c338b1438>"
      ]
     },
     "metadata": {},
     "output_type": "display_data"
    }
   ],
   "source": [
    "plt.semilogx(-1*np.array(logscore_range), macro_recall)\n",
    "plt.title('Recall')\n",
    "plt.xlabel('-log(cumulative_score)');"
   ]
  },
  {
   "cell_type": "code",
   "execution_count": 37,
   "metadata": {},
   "outputs": [
    {
     "data": {
      "text/plain": [
       "[<matplotlib.lines.Line2D at 0x7f7c34410278>]"
      ]
     },
     "execution_count": 37,
     "metadata": {},
     "output_type": "execute_result"
    },
    {
     "data": {
      "image/png": "[encoded data removed]",
      "text/plain": [
       "<matplotlib.figure.Figure at 0x7f7c341cef28>"
      ]
     },
     "metadata": {},
     "output_type": "display_data"
    }
   ],
   "source": [
    "plt.plot(macro_precision, macro_recall)"
   ]
  }
 ],
 "metadata": {
  "kernelspec": {
   "display_name": "Python 3",
   "language": "python",
   "name": "python3"
  },
  "language_info": {
   "codemirror_mode": {
    "name": "ipython",
    "version": 3
   },
   "file_extension": ".py",
   "mimetype": "text/x-python",
   "name": "python",
   "nbconvert_exporter": "python",
   "pygments_lexer": "ipython3",
   "version": "3.6.3rc1"
  }
 },
 "nbformat": 4,
 "nbformat_minor": 2
}
